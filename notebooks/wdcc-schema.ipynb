{
 "cells": [
  {
   "cell_type": "markdown",
   "id": "662d2b87-5819-4dc6-bba3-0bc6f7096484",
   "metadata": {},
   "source": [
    "# WDCC record schema\n",
    "\n",
    "* https://json-schema.org/\n",
    "* https://github.com/python-jsonschema/jsonschema"
   ]
  },
  {
   "cell_type": "code",
   "execution_count": 1,
   "id": "121cbc98-0097-43e6-95ca-a0de254ab3a7",
   "metadata": {},
   "outputs": [],
   "source": [
    "from jsonschema import validate\n",
    "from jsonschema import Draft202012Validator"
   ]
  },
  {
   "cell_type": "code",
   "execution_count": 2,
   "id": "4dfa1d48-f7fe-4ab8-b173-fbabf4b5eaf6",
   "metadata": {},
   "outputs": [],
   "source": [
    "schema = {\n",
    "     \"$schema\": \"https://json-schema.org/draft/2020-12/schema\",\n",
    "     \"title\": \"WDCC\",\n",
    "     \"description\": \"A handle record schema for WDCC.\",\n",
    "     \"type\" : \"object\",\n",
    "     \"properties\" : {\n",
    "         \"URL\" : {\n",
    "             \"description\": \"URL of the landing page\", \n",
    "             \"type\" : \"string\",\n",
    "             \"format\": \"uri\",\n",
    "         },\n",
    "         \"AGGREGATION_LEVEL\" : {\n",
    "             \"description\": \"Type of entity.\",\n",
    "             \"type\" : \"string\"\n",
    "         },\n",
    "         \"PUBLISHER\" : {\"type\" : \"string\"},\n",
    "         \"TITLE\" : {\n",
    "             \"type\" : \"string\",\n",
    "             \"minLength\": 1,\n",
    "             \"maxLength\": 1000,\n",
    "         },\n",
    "         \"ENTRY_ID\" : {\n",
    "             \"type\" : \"string\",\n",
    "             \"minLength\": 1,\n",
    "             \"maxLength\": 200,\n",
    "         },\n",
    "         \"IS_PART_OF\" : {\n",
    "             \"type\" : \"string\",\n",
    "             \"format\": \"uri\",\n",
    "         },\n",
    "         \"KERNEL_INFORMATION_PROFILE\" : {\n",
    "             \"type\" : \"string\",\n",
    "             \"format\": \"uri\",\n",
    "         },\n",
    "     },\n",
    "    \"required\": [ \"URL\", 'AGGREGATION_LEVEL', 'PUBLISHER', 'TITLE', 'ENTRY_ID' ]\n",
    "}"
   ]
  },
  {
   "cell_type": "code",
   "execution_count": 3,
   "id": "08e3eca4-4701-41a1-9253-0d8a88ec774d",
   "metadata": {},
   "outputs": [],
   "source": [
    "data={\n",
    "    \"URL\" : \"http://test\", \n",
    "    \"TITLE\" : \"bla\", \n",
    "    \"AGGREGATION_LEVEL\": \"dataset\", \n",
    "    \"PUBLISHER\": \"dkrz\",\n",
    "    \"ENTRY_ID\": \"blablu\",\n",
    "    \"KERNEL_INFORMATION_PROFILE\": \"http://example.org/schema.json\"\n",
    "}"
   ]
  },
  {
   "cell_type": "code",
   "execution_count": 4,
   "id": "5d97273b-1382-402a-a238-da9bca68e675",
   "metadata": {},
   "outputs": [],
   "source": [
    "validate(data, schema=schema, format_checker=Draft202012Validator.FORMAT_CHECKER)"
   ]
  }
 ],
 "metadata": {
  "kernelspec": {
   "display_name": "Python 3 (ipykernel)",
   "language": "python",
   "name": "python3"
  },
  "language_info": {
   "codemirror_mode": {
    "name": "ipython",
    "version": 3
   },
   "file_extension": ".py",
   "mimetype": "text/x-python",
   "name": "python",
   "nbconvert_exporter": "python",
   "pygments_lexer": "ipython3",
   "version": "3.10.13"
  }
 },
 "nbformat": 4,
 "nbformat_minor": 5
}
