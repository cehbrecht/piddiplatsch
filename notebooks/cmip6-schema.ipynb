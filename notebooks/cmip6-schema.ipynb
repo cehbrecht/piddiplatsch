{
 "cells": [
  {
   "cell_type": "markdown",
   "id": "13d9ae35-cff4-4e8e-991e-b6b9384c1cd7",
   "metadata": {},
   "source": [
    "# cmip6 schema\n",
    "\n",
    "* https://json-schema.org/\n",
    "* https://github.com/python-jsonschema/jsonschema"
   ]
  },
  {
   "cell_type": "code",
   "execution_count": 1,
   "id": "858d0b82-64f1-45f8-ad67-73b9b3b9bb7b",
   "metadata": {},
   "outputs": [],
   "source": [
    "from jsonschema import validate\n",
    "from jsonschema import Draft202012Validator"
   ]
  },
  {
   "cell_type": "code",
   "execution_count": 2,
   "id": "6823ce62-43f5-4195-85ac-71031a5737c3",
   "metadata": {},
   "outputs": [],
   "source": [
    "AGGREGATION_LEVELS = [\"FILE\", \"DATASET\"]\n",
    "CHECKSUM_METHODS = [\"MD5\", \"SHA256\"]\n",
    "\n",
    "schema = {\n",
    "     \"$schema\": \"https://json-schema.org/draft/2020-12/schema\",\n",
    "     \"title\": \"CMIP6\",\n",
    "     \"description\": \"A handle record schema for CMIP6.\",\n",
    "     \"type\" : \"object\",\n",
    "     \"properties\" : {\n",
    "         \"URL\" : {\n",
    "             \"description\": \"URL of the landing page\", \n",
    "             \"type\" : \"string\",\n",
    "             \"format\": \"uri\",\n",
    "         },\n",
    "         \"FIXED_CONTENT\": {\"type\": \"boolean\"},\n",
    "         \"AGGREGATION_LEVEL\" : {\"enum\": AGGREGATION_LEVELS},\n",
    "     },\n",
    "     \"required\": [ \"URL\", 'AGGREGATION_LEVEL' ],\n",
    "     \"if\": {\n",
    "        \"properties\": {\n",
    "          \"AGGREGATION_LEVEL\": { \"const\": \"FILE\" }\n",
    "        },\n",
    "      },\n",
    "      \"then\": {\n",
    "        \"properties\": {\n",
    "          \"IS_PART_OF\" : {\n",
    "             \"type\" : \"string\",\n",
    "           },\n",
    "            \"FILE_NAME\": {\n",
    "                \"type\": \"string\",\n",
    "                \"minLength\": 1,\n",
    "                \"maxLength\": 200,\n",
    "            },\n",
    "            \"FILE_SIZE\": {\n",
    "                \"type\": \"integer\",\n",
    "                \"minimum\": 0,\n",
    "            },\n",
    "            \"FILE_VERSION\": {\n",
    "                \"type\": \"integer\",\n",
    "                \"minimum\": 0,\n",
    "            },\n",
    "            \"CHECKSUM\": {\"type\": \"string\"},\n",
    "            \"CHECKSUM_METHOD\": {\"enum\": CHECKSUM_METHODS},\n",
    "        },\n",
    "        \"required\": [ \"FILE_NAME\" ],\n",
    "      },\n",
    "      \"else\": {\n",
    "        \"properties\": {\n",
    "          \"DRS_ID\": {\n",
    "            \"type\": \"string\",\n",
    "          },\n",
    "          \"VERSION_NUMBER\": {\n",
    "            \"type\": \"string\",\n",
    "          },\n",
    "          \"HAS_PARTS\": {\n",
    "            \"type\": \"string\",\n",
    "          },\n",
    "        },\n",
    "        \"required\": [ \"DRS_ID\" ],\n",
    "      },\n",
    "}"
   ]
  },
  {
   "cell_type": "markdown",
   "id": "56c215c8-dbf6-41fc-90e1-514e03edaecb",
   "metadata": {},
   "source": [
    "## validate file"
   ]
  },
  {
   "cell_type": "code",
   "execution_count": 3,
   "id": "be807256-bf63-4d05-9d79-46f47086b85e",
   "metadata": {},
   "outputs": [],
   "source": [
    "file_data={\n",
    "    \"URL\": \"http://test\",\n",
    "    \"AGGREGATION_LEVEL\": \"FILE\",\n",
    "    \"IS_PART_OF\": \"blas\",\n",
    "    \"FILE_NAME\": \"temperature.nc\",\n",
    "    \"FILE_SIZE\": 10,\n",
    "    \"FILE_VERSION\": 1,\n",
    "    \"CHECKSUM\": \"abc123\",\n",
    "    \"CHECKSUM_METHOD\": \"MD5\",\n",
    "}"
   ]
  },
  {
   "cell_type": "code",
   "execution_count": 4,
   "id": "9df46b3e-0d70-4dd4-9393-45a8b615fba4",
   "metadata": {},
   "outputs": [],
   "source": [
    "validate(file_data, schema=schema, format_checker=Draft202012Validator.FORMAT_CHECKER)"
   ]
  },
  {
   "cell_type": "markdown",
   "id": "09ece91d-b6d3-48af-a813-efcbb145832d",
   "metadata": {},
   "source": [
    "## validate dataset"
   ]
  },
  {
   "cell_type": "code",
   "execution_count": 5,
   "id": "f15a328e-f794-44f0-bae8-9d04d75d7b6b",
   "metadata": {},
   "outputs": [],
   "source": [
    "ds_data={\n",
    "    \"URL\": \"http://test\",\n",
    "    \"AGGREGATION_LEVEL\": \"DATASET\",\n",
    "    \"DRS_ID\": \"cmip6.tas.123\",\n",
    "    \"HAS_PARTS\": \"one;two;three\",\n",
    "}"
   ]
  },
  {
   "cell_type": "code",
   "execution_count": 6,
   "id": "da5320c3-3dea-48bd-af11-f2eb36f43462",
   "metadata": {},
   "outputs": [],
   "source": [
    "validate(ds_data, schema=schema, format_checker=Draft202012Validator.FORMAT_CHECKER)"
   ]
  }
 ],
 "metadata": {
  "kernelspec": {
   "display_name": "Python 3 (ipykernel)",
   "language": "python",
   "name": "python3"
  },
  "language_info": {
   "codemirror_mode": {
    "name": "ipython",
    "version": 3
   },
   "file_extension": ".py",
   "mimetype": "text/x-python",
   "name": "python",
   "nbconvert_exporter": "python",
   "pygments_lexer": "ipython3",
   "version": "3.10.13"
  }
 },
 "nbformat": 4,
 "nbformat_minor": 5
}
