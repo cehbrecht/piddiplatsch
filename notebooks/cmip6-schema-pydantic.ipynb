{
 "cells": [
  {
   "cell_type": "markdown",
   "id": "3b7bee7c-a3e3-4bc1-a6aa-85d4f94a82e5",
   "metadata": {},
   "source": [
    "# cmip6 schema with pydantic\n",
    "\n",
    "https://docs.pydantic.dev/latest/"
   ]
  },
  {
   "cell_type": "code",
   "execution_count": 1,
   "id": "9b4591c2-59b6-4b64-8828-30d6a7246992",
   "metadata": {},
   "outputs": [],
   "source": [
    "from typing import Literal\n",
    "from pydantic import BaseModel, PositiveInt"
   ]
  },
  {
   "cell_type": "code",
   "execution_count": 2,
   "id": "3c12d910-5bfb-41da-b5be-90e863fd2ee1",
   "metadata": {},
   "outputs": [],
   "source": [
    "class CMIP6Schema(BaseModel):\n",
    "    handle: str = \"\"\n",
    "    aggregation_level: Literal['file', 'dataset']\n",
    "    file_name: str\n",
    "    file_size: PositiveInt = 0"
   ]
  },
  {
   "cell_type": "code",
   "execution_count": 3,
   "id": "a7caad0f-e02c-4139-97ec-457553867847",
   "metadata": {},
   "outputs": [],
   "source": [
    "data = {\n",
    "    \"file_name\": \"temperature.nc\",\n",
    "    \"aggregation_level\": \"file\"\n",
    "}"
   ]
  },
  {
   "cell_type": "code",
   "execution_count": 4,
   "id": "1d82ba1c-cf94-4141-aa25-6b4b85cc1389",
   "metadata": {},
   "outputs": [
    {
     "data": {
      "text/plain": [
       "CMIP6Schema(handle='', aggregation_level='file', file_name='temperature.nc', file_size=0)"
      ]
     },
     "execution_count": 4,
     "metadata": {},
     "output_type": "execute_result"
    }
   ],
   "source": [
    "schema = CMIP6Schema(**data)\n",
    "schema"
   ]
  },
  {
   "cell_type": "code",
   "execution_count": 5,
   "id": "cfe15b97-ee0b-4ad5-b590-3fc5908edf97",
   "metadata": {},
   "outputs": [
    {
     "data": {
      "text/plain": [
       "'{\"handle\":\"\",\"aggregation_level\":\"file\",\"file_name\":\"temperature.nc\",\"file_size\":0}'"
      ]
     },
     "execution_count": 5,
     "metadata": {},
     "output_type": "execute_result"
    }
   ],
   "source": [
    "schema.json()"
   ]
  },
  {
   "cell_type": "code",
   "execution_count": 6,
   "id": "696a06d3-082a-4f12-9ba6-062a8ff10202",
   "metadata": {},
   "outputs": [
    {
     "data": {
      "text/plain": [
       "{'properties': {'handle': {'default': '', 'title': 'Handle', 'type': 'string'},\n",
       "  'aggregation_level': {'enum': ['file', 'dataset'],\n",
       "   'title': 'Aggregation Level',\n",
       "   'type': 'string'},\n",
       "  'file_name': {'title': 'File Name', 'type': 'string'},\n",
       "  'file_size': {'default': 0,\n",
       "   'exclusiveMinimum': 0,\n",
       "   'title': 'File Size',\n",
       "   'type': 'integer'}},\n",
       " 'required': ['aggregation_level', 'file_name'],\n",
       " 'title': 'CMIP6Schema',\n",
       " 'type': 'object'}"
      ]
     },
     "execution_count": 6,
     "metadata": {},
     "output_type": "execute_result"
    }
   ],
   "source": [
    "schema.model_json_schema()"
   ]
  }
 ],
 "metadata": {
  "kernelspec": {
   "display_name": "Python 3 (ipykernel)",
   "language": "python",
   "name": "python3"
  },
  "language_info": {
   "codemirror_mode": {
    "name": "ipython",
    "version": 3
   },
   "file_extension": ".py",
   "mimetype": "text/x-python",
   "name": "python",
   "nbconvert_exporter": "python",
   "pygments_lexer": "ipython3",
   "version": "3.10.13"
  }
 },
 "nbformat": 4,
 "nbformat_minor": 5
}
